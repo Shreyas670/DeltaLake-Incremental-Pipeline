{
 "cells": [
  {
   "cell_type": "code",
   "execution_count": 5,
   "id": "916d0e46-5f04-4575-84cb-36b58187c84d",
   "metadata": {},
   "outputs": [],
   "source": [
    "# Import required libraries\n",
    "from pyspark.sql import SparkSession\n",
    "from lib.spark_session import get_spark_session\n",
    "# Generate SparkSession\n"
   ]
  },
  {
   "cell_type": "code",
   "execution_count": 6,
   "id": "f6a2d2e1-d080-4c2a-ad42-96c96737dd38",
   "metadata": {},
   "outputs": [
    {
     "name": "stdout",
     "output_type": "stream",
     "text": [
      "SPARK_APP: Spark Session UI - http://d414f70cda69:4040\n"
     ]
    }
   ],
   "source": [
    "spark: SparkSession = get_spark_session(\"Drop Databases\")\n",
    "print(\"SPARK_APP: Spark Session UI - \"+ spark.sparkContext.uiWebUrl)"
   ]
  },
  {
   "cell_type": "code",
   "execution_count": 3,
   "id": "532ec58b-08e5-4944-a909-273c264e20f3",
   "metadata": {},
   "outputs": [
    {
     "name": "stdout",
     "output_type": "stream",
     "text": [
      "+---------+\n",
      "|namespace|\n",
      "+---------+\n",
      "|  default|\n",
      "|      edw|\n",
      "|   edw_ld|\n",
      "|  edw_stg|\n",
      "+---------+\n",
      "\n"
     ]
    }
   ],
   "source": [
    "# Create dw schema in catalog\n",
    "spark.sql(\"create database if not exists edw\");\n",
    "spark.sql(\"create database if not exists edw_stg\");\n",
    "spark.sql(\"create database if not exists edw_ld\");\n",
    "spark.sql(\"show databases\").show();"
   ]
  },
  {
   "cell_type": "code",
   "execution_count": 4,
   "id": "7fc02db2-ef95-424b-b94a-8f711337e94b",
   "metadata": {},
   "outputs": [
    {
     "name": "stdout",
     "output_type": "stream",
     "text": [
      "SPARK-APP: Store dimension created\n"
     ]
    }
   ],
   "source": [
    "# Create Store Dim table\n",
    "spark.sql(\"\"\"drop table if exists edw.dim_store\"\"\");\n",
    "\n",
    "spark.sql(\"\"\"\n",
    "create table edw.dim_store (\n",
    "    row_wid string,\n",
    "    store_id string,\n",
    "    store_name string,\n",
    "    address string,\n",
    "    city string,\n",
    "    state string,\n",
    "    zip_code string,\n",
    "    phone_number string,\n",
    "    rundate string,\n",
    "    insert_dt timestamp,\n",
    "    update_dt timestamp\n",
    ")\n",
    "USING delta\n",
    ";\n",
    "\"\"\");\n",
    "\n",
    "print(\"SPARK-APP: Store dimension created\")"
   ]
  },
  {
   "cell_type": "code",
   "execution_count": 5,
   "id": "539fe500-a1e6-42ed-a02b-b8b8eb374328",
   "metadata": {},
   "outputs": [
    {
     "name": "stdout",
     "output_type": "stream",
     "text": [
      "SPARK-APP: Plan Type dimension created\n"
     ]
    }
   ],
   "source": [
    "# Create Plan Type Dimension\n",
    "spark.sql(\"\"\"drop table if exists edw.dim_plan_type\"\"\");\n",
    "spark.sql(\"\"\"\n",
    "create table edw.dim_plan_type (\n",
    "    plan_type_code string,\n",
    "    plan_name string,\n",
    "    rundate string,\n",
    "    insert_dt timestamp,\n",
    "    update_dt timestamp\n",
    ")\n",
    "USING delta\n",
    ";\n",
    "\"\"\");\n",
    "\n",
    "print(\"SPARK-APP: Plan Type dimension created\")"
   ]
  },
  {
   "cell_type": "code",
   "execution_count": 6,
   "id": "f0bf8552-b4bb-433b-ad37-394b2ec69c7f",
   "metadata": {},
   "outputs": [
    {
     "name": "stdout",
     "output_type": "stream",
     "text": [
      "SPARK-APP: Date dimension created\n"
     ]
    }
   ],
   "source": [
    "# Create Date Dimension\n",
    "spark.sql(\"\"\"drop table if exists edw.dim_date\"\"\");\n",
    "spark.sql(\"\"\"\n",
    "create table edw.dim_date (\n",
    "    row_wid string,\n",
    "    date date,\n",
    "    day int,\n",
    "    month int,\n",
    "    year int,\n",
    "    day_of_week string,\n",
    "    rundate string,\n",
    "    insert_dt timestamp,\n",
    "    update_dt timestamp\n",
    ")\n",
    "USING delta\n",
    ";\n",
    "\"\"\");\n",
    "\n",
    "print(\"SPARK-APP: Date dimension created\")"
   ]
  },
  {
   "cell_type": "code",
   "execution_count": 7,
   "id": "04601887-97d8-405f-be01-15a857bb3557",
   "metadata": {},
   "outputs": [
    {
     "name": "stdout",
     "output_type": "stream",
     "text": [
      "SPARK-APP: Product dimension created\n"
     ]
    }
   ],
   "source": [
    "# Create Product Dimension\n",
    "spark.sql(\"\"\"drop table if exists edw.dim_product\"\"\");\n",
    "spark.sql(\"\"\"\n",
    "create table edw.dim_product (\n",
    "    row_wid string,\n",
    "    product_id string,\n",
    "    product_name string,\n",
    "    brand string,\n",
    "    type string,\n",
    "    flavor string,\n",
    "    size string,\n",
    "    price double,\n",
    "    expiration_dt date,\n",
    "    image_url string,\n",
    "    effective_start_dt timestamp,\n",
    "    effective_end_dt timestamp,\n",
    "    active_flg int,\n",
    "    rundate string,\n",
    "    insert_dt timestamp,\n",
    "    update_dt timestamp\n",
    ")\n",
    "USING delta\n",
    ";\n",
    "\"\"\");\n",
    "\n",
    "print(\"SPARK-APP: Product dimension created\")"
   ]
  },
  {
   "cell_type": "code",
   "execution_count": 9,
   "id": "d05c142f-a572-4934-af42-d5b383728589",
   "metadata": {},
   "outputs": [
    {
     "name": "stdout",
     "output_type": "stream",
     "text": [
      "SPARK-APP: Customer dimension created\n"
     ]
    }
   ],
   "source": [
    "# Create Customer Dimension\n",
    "spark.sql(\"\"\"drop table if exists edw.dim_customer\"\"\");\n",
    "spark.sql(\"\"\"\n",
    "create table edw.dim_customer (\n",
    "    row_wid string,\n",
    "    customer_id string,\n",
    "    first_name string,\n",
    "    last_name string,\n",
    "    address string,\n",
    "    city string,\n",
    "    state string,\n",
    "    zip_code string,\n",
    "    phone_number string,\n",
    "    email string,\n",
    "    date_of_birth date,\n",
    "    plan_type string,\n",
    "    effective_start_dt timestamp,\n",
    "    effective_end_dt timestamp,\n",
    "    active_flg int,\n",
    "    rundate string,\n",
    "    insert_dt timestamp,\n",
    "    update_dt timestamp\n",
    ")\n",
    "USING delta\n",
    ";\n",
    "\"\"\");\n",
    "\n",
    "print(\"SPARK-APP: Customer dimension created\")"
   ]
  },
  {
   "cell_type": "code",
   "execution_count": 9,
   "id": "02cbc37a-3b63-4aaf-8e7f-56c09610623c",
   "metadata": {},
   "outputs": [
    {
     "name": "stdout",
     "output_type": "stream",
     "text": [
      "SPARK-APP: Sales Fact created\n"
     ]
    }
   ],
   "source": [
    "# Create Sales Fact\n",
    "spark.sql(\"\"\"drop table if exists edw.fact_sales\"\"\");\n",
    "spark.sql(\"\"\"\n",
    "create table edw.fact_sales (\n",
    "    date_wid string,\n",
    "    product_wid string,\n",
    "    store_wid string,\n",
    "    customer_wid string,\n",
    "    order_id string,\n",
    "    invoice_num string,\n",
    "    qty int,\n",
    "    tax double,\n",
    "    discount double,\n",
    "    line_total double,\n",
    "    integration_key string,\n",
    "    rundate string,\n",
    "    insert_dt timestamp,\n",
    "    update_dt timestamp\n",
    ")\n",
    "USING delta\n",
    ";\n",
    "\"\"\");\n",
    "\n",
    "print(\"SPARK-APP: Sales Fact created\")"
   ]
  },
  {
   "cell_type": "code",
   "execution_count": 10,
   "id": "36aa93c1-ac1e-4d48-8fe5-c1f034b3ff1f",
   "metadata": {},
   "outputs": [
    {
     "name": "stdout",
     "output_type": "stream",
     "text": [
      "SPARK-APP: JOB Control table created\n"
     ]
    }
   ],
   "source": [
    "# Create Audit table\n",
    "spark.sql(\"\"\"drop table if exists edw.job_control\"\"\");\n",
    "spark.sql(\"\"\"\n",
    "create table edw.job_control (\n",
    "    schema_name string,\n",
    "    table_name string,\n",
    "    max_timestamp timestamp,\n",
    "    rundate string,\n",
    "    insert_dt timestamp\n",
    ")\n",
    "USING delta\n",
    ";\n",
    "\"\"\");\n",
    "\n",
    "print(\"SPARK-APP: JOB Control table created\")"
   ]
  },
  {
   "cell_type": "code",
   "execution_count": 10,
   "id": "9194177e-f6bf-4880-8f01-6bf04d016e2f",
   "metadata": {},
   "outputs": [
    {
     "name": "stdout",
     "output_type": "stream",
     "text": [
      "+---------+-------------+-----------+\n",
      "|namespace|    tableName|isTemporary|\n",
      "+---------+-------------+-----------+\n",
      "|      edw| dim_customer|      false|\n",
      "|      edw|     dim_date|      false|\n",
      "|      edw|dim_plan_type|      false|\n",
      "|      edw|  dim_product|      false|\n",
      "|      edw|    dim_store|      false|\n",
      "|      edw|   fact_sales|      false|\n",
      "|      edw|  job_control|      false|\n",
      "+---------+-------------+-----------+\n",
      "\n"
     ]
    }
   ],
   "source": [
    "spark.sql(\"show tables in edw\").show()"
   ]
  },
  {
   "cell_type": "code",
   "execution_count": 11,
   "id": "fd21a4a0-aaa3-4b32-bcbf-36228172b064",
   "metadata": {},
   "outputs": [],
   "source": [
    "spark.stop()"
   ]
  }
 ],
 "metadata": {
  "kernelspec": {
   "display_name": "Python 3 (ipykernel)",
   "language": "python",
   "name": "python3"
  },
  "language_info": {
   "codemirror_mode": {
    "name": "ipython",
    "version": 3
   },
   "file_extension": ".py",
   "mimetype": "text/x-python",
   "name": "python",
   "nbconvert_exporter": "python",
   "pygments_lexer": "ipython3",
   "version": "3.10.16"
  }
 },
 "nbformat": 4,
 "nbformat_minor": 5
}
